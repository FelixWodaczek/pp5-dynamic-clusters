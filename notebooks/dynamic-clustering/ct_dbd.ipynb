{
 "cells": [
  {
   "cell_type": "markdown",
   "metadata": {},
   "source": [
    "# Cluster Transitions for Dynamic by Design Data"
   ]
  },
  {
   "cell_type": "markdown",
   "metadata": {},
   "source": [
    "## Imports"
   ]
  },
  {
   "cell_type": "code",
   "execution_count": null,
   "metadata": {},
   "outputs": [],
   "source": [
    "from pathlib import Path\n",
    "\n",
    "import numpy as np"
   ]
  },
  {
   "cell_type": "markdown",
   "metadata": {},
   "source": [
    "## Acquire Trajectories"
   ]
  },
  {
   "cell_type": "code",
   "execution_count": null,
   "metadata": {},
   "outputs": [],
   "source": [
    "data_dir = Path('./data').resolve()\n",
    "xtc_dir = data_dir.joinpath('Disordered_By_Design/XTC_files')\n",
    "\n",
    "unique_names = [name.stem for name in xtc_dir.glob('*.xtc')]\n",
    "\n",
    "print(f\"{len(unique_names)} unique starting configurations:\")\n",
    "print(unique_names)"
   ]
  },
  {
   "cell_type": "code",
   "execution_count": null,
   "metadata": {},
   "outputs": [],
   "source": [
    "from Bio import PDB\n",
    "\n",
    "pdb_dir = data_dir.joinpath('Disordered_By_Design/2KMV/')\n",
    "sample_file = pdb_dir.joinpath('2KMV_01_02.pdb')\n",
    "\n",
    "sample_pdb = PDB.PDBParser().get_structure('sample', sample_file)\n",
    "print(f\"Sample structure with {len([_ for atom in sample_pdb.get_atoms()])} models\")"
   ]
  },
  {
   "cell_type": "code",
   "execution_count": null,
   "metadata": {},
   "outputs": [],
   "source": [
    "import mdtraj\n",
    "\n",
    "sample_u = mdtraj.load_xtc(\n",
    "    data_dir.joinpath('Disordered_By_Design/XTC_files/md_0_1_align_2KMV_01_02.xtc'),\n",
    "    top=data_dir.joinpath('Disordered_By_Design/2KMV/2KMV_01_02.pdb'),\n",
    "    atom_indices=range(0, 2834)\n",
    ")\n",
    "print(sample_u)"
   ]
  },
  {
   "cell_type": "code",
   "execution_count": null,
   "metadata": {},
   "outputs": [],
   "source": [
    "from MDAnalysis import Universe\n",
    "\n",
    "sample_u = Universe(\n",
    "    topology=data_dir.joinpath('Disordered_By_Design/2KMV/2KMV_01_02.pdb'), topology_format='pdb',\n",
    "    trajectory=data_dir.joinpath('Disordered_By_Design/XTC_files/md_0_1_align_2KMV_01_02.xtc'), format='xtc'\n",
    ")\n",
    "\n",
    "for traj in sample_u.trajectory:\n",
    "    print(f\"Frame {traj.frame} has {len(sample_u.atoms)} atoms\")\n",
    "print(f\"Found {len(sample_u.atoms)} atoms\")\n",
    "print(f\"Found {len(sample_u.residues)} residues\")\n",
    "print(f\"Found {len(sample_u.segments)} segments\")"
   ]
  },
  {
   "cell_type": "markdown",
   "metadata": {},
   "source": [
    "## Clustering"
   ]
  },
  {
   "cell_type": "code",
   "execution_count": null,
   "metadata": {},
   "outputs": [],
   "source": [
    "K = 2000\n",
    "import pickle\n",
    "with open(f'clusters-{K//1000}K.pkl', 'rb') as f:\n",
    "    clusters = pickle.load(f)"
   ]
  },
  {
   "cell_type": "code",
   "execution_count": null,
   "metadata": {},
   "outputs": [],
   "source": [
    "C = clusters['X']\n",
    "C = np.stack(C)\n",
    "Cangles = np.array([clusters['phi0'], clusters['psi0'], clusters['phi1'], clusters['psi1']]).T"
   ]
  },
  {
   "cell_type": "code",
   "execution_count": null,
   "metadata": {},
   "outputs": [],
   "source": [
    "from sklearn.neighbors import NearestNeighbors\n",
    "neigh = NearestNeighbors().fit(C.reshape(C.shape[0], -1))\n",
    "#indices = neight.kneighbors(C.reshape(C.shape[0], -1), n_neighbors=1, return_distance=False)"
   ]
  },
  {
   "cell_type": "code",
   "execution_count": null,
   "metadata": {},
   "outputs": [],
   "source": [
    "from Bio.PDB import Selection, Atom, Residue, Structure\n",
    "\n",
    "# data format seems to have changed, change alex' parser to give same results\n",
    "# # TODO: 'get_coordinates' function not really documented well enough to be sure, ask alex\n",
    "def get_coordinates(traj_path: Path, parser=None, filter_atoms={'N','CA','C','O'}):\n",
    "    if parser is None:\n",
    "        parser = PDBParser()\n",
    "    \n",
    "    structure: Structure = parser.get_structure(id=traj_path.stem, file=traj_path)\n",
    "    print(f'{traj_path.stem} has length: {len(structure)}')\n",
    "\n",
    "    initial_frame: Structure = structure[0]\n",
    "    valid_residue_ids = []\n",
    "    for residue in Selection.unfold_entities(initial_frame, 'R'):\n",
    "        filtered_atoms = residue[list(filter_atoms)]\n",
    "    print(valid_residue_ids)\n",
    "    return\n",
    "\n",
    "    for frame in structure:\n",
    "        for residue in Selection.unfold_entities(frame, 'R'):\n",
    "            for atom in residue:\n",
    "                if atom.get_name() in filter_atoms:\n",
    "                    print(residue.get_id())\n",
    "\n",
    "\n",
    "pd_traj = get_coordinates(xtc_dir.joinpath(unique_names[0]+'.pdb'))"
   ]
  },
  {
   "cell_type": "code",
   "execution_count": null,
   "metadata": {},
   "outputs": [],
   "source": []
  }
 ],
 "metadata": {
  "kernelspec": {
   "display_name": "pp5",
   "language": "python",
   "name": "python3"
  },
  "language_info": {
   "codemirror_mode": {
    "name": "ipython",
    "version": 3
   },
   "file_extension": ".py",
   "mimetype": "text/x-python",
   "name": "python",
   "nbconvert_exporter": "python",
   "pygments_lexer": "ipython3",
   "version": "3.11.9"
  }
 },
 "nbformat": 4,
 "nbformat_minor": 2
}
