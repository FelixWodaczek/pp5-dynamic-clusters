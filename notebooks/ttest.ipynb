{
 "cells": [
  {
   "cell_type": "code",
   "execution_count": 3,
   "metadata": {},
   "outputs": [],
   "source": [
    "import numpy as np\n",
    "from numpy.random import randn, permutation, seed\n",
    "from numpy.linalg import norm\n",
    "from scipy.spatial.distance import pdist, squareform\n",
    "from scipy.linalg import sqrtm\n",
    "import matplotlib.pyplot as plt"
   ]
  },
  {
   "cell_type": "code",
   "execution_count": 4,
   "metadata": {},
   "outputs": [],
   "source": [
    "import sys\n",
    "sys.path.append(\"..\")\n",
    "from pp5.stats import tw_test"
   ]
  },
  {
   "cell_type": "code",
   "execution_count": 5,
   "metadata": {},
   "outputs": [],
   "source": [
    "def W2(mux,muy, Cx, Cy):\n",
    "    \"\"\"\n",
    "    Wasserstein distance between two normal distributions\n",
    "    \"\"\"\n",
    "    return np.sqrt(\n",
    "        max(0, norm(mux-muy)**2 + np.trace( Cx + Cy - 2*sqrtm(sqrtm(Cx) @ Cy @ sqrtm(Cx)) ))\n",
    "    )"
   ]
  },
  {
   "cell_type": "code",
   "execution_count": 6,
   "metadata": {},
   "outputs": [],
   "source": [
    "def gen_random_data(n, nx, ny, shift, covdiff):\n",
    "    # first-order statistics\n",
    "    mu_x = randn(n)\n",
    "    dmu = randn(n)\n",
    "    mu_y = mu_x + dmu*shift/norm(dmu)\n",
    "\n",
    "    # second-order statistics\n",
    "    #A = randn(n, n)\n",
    "    A = np.abs(np.diag(randn(n)))\n",
    "    Cx = A @ A.T\n",
    "    dA = np.abs(randn(n))\n",
    "    B = A + np.diag(dA/norm(dA)*covdiff)\n",
    "    Cy = B @ B.T\n",
    "\n",
    "    # Generate random samples from normal distribution\n",
    "    X = A @ randn(n, nx) + mu_x[:,None]\n",
    "    Y = B @ randn(n, ny) + mu_y[:,None]\n",
    "    \n",
    "    return X, Y, mu_x, Cx, mu_y, Cy "
   ]
  },
  {
   "cell_type": "code",
   "execution_count": 7,
   "metadata": {},
   "outputs": [
    {
     "name": "stdout",
     "output_type": "stream",
     "text": [
      "dims\t|mux-muy|\tW2(Cx,Cy)\tNx\tNy\tT2\tp\n",
      "5 \t0.00\t\t0.00\t\t10  \t10  \t0.41  \t0.615100±0.255964\n",
      "5 \t0.00\t\t0.00\t\t10  \t50  \t0.37  \t0.720100±0.203110\n",
      "5 \t0.00\t\t0.00\t\t10  \t100 \t0.47  \t0.631500±0.211098\n",
      "5 \t0.00\t\t0.00\t\t50  \t50  \t0.26  \t0.632900±0.319203\n",
      "5 \t0.00\t\t0.00\t\t50  \t100 \t0.22  \t0.670200±0.262467\n",
      "5 \t0.00\t\t0.00\t\t100 \t100 \t0.42  \t0.413200±0.252850\n",
      "5 \t0.20\t\t0.00\t\t10  \t10  \t0.46  \t0.590400±0.256463\n",
      "5 \t0.20\t\t0.00\t\t10  \t50  \t0.43  \t0.638100±0.189404\n",
      "5 \t0.20\t\t0.00\t\t10  \t100 \t0.61  \t0.564200±0.201665\n",
      "5 \t0.20\t\t0.00\t\t50  \t50  \t0.49  \t0.521500±0.302366\n",
      "5 \t0.20\t\t0.00\t\t50  \t100 \t0.59  \t0.430100±0.262539\n",
      "5 \t0.20\t\t0.00\t\t100 \t100 \t0.99  \t0.263100±0.209522\n",
      "5 \t0.40\t\t0.00\t\t10  \t10  \t0.56  \t0.514100±0.264871\n",
      "5 \t0.40\t\t0.00\t\t10  \t50  \t0.54  \t0.511900±0.235512\n",
      "5 \t0.40\t\t0.00\t\t10  \t100 \t0.79  \t0.450600±0.228070\n",
      "5 \t0.40\t\t0.00\t\t50  \t50  \t0.97  \t0.290100±0.224022\n",
      "5 \t0.40\t\t0.00\t\t50  \t100 \t1.32  \t0.184500±0.139874\n",
      "5 \t0.40\t\t0.00\t\t100 \t100 \t2.08  \t0.115400±0.124094\n",
      "5 \t0.60\t\t0.00\t\t10  \t10  \t0.69  \t0.424600±0.277186\n",
      "5 \t0.60\t\t0.00\t\t10  \t50  \t0.69  \t0.398300±0.263155\n",
      "5 \t0.60\t\t0.00\t\t10  \t100 \t1.02  \t0.348700±0.245831\n",
      "5 \t0.60\t\t0.00\t\t50  \t50  \t1.70  \t0.124600±0.099401\n",
      "5 \t0.60\t\t0.00\t\t50  \t100 \t2.41  \t0.057200±0.045057\n",
      "5 \t0.60\t\t0.00\t\t100 \t100 \t3.67  \t0.034100±0.048700\n",
      "5 \t0.80\t\t0.00\t\t10  \t10  \t0.85  \t0.349200±0.278780\n",
      "5 \t0.80\t\t0.00\t\t10  \t50  \t0.89  \t0.307100±0.256002\n",
      "5 \t0.80\t\t0.00\t\t10  \t100 \t1.30  \t0.267000±0.229957\n",
      "5 \t0.80\t\t0.00\t\t50  \t50  \t2.70  \t0.043500±0.033904\n",
      "5 \t0.80\t\t0.00\t\t50  \t100 \t3.85  \t0.014400±0.017614\n",
      "5 \t0.80\t\t0.00\t\t100 \t100 \t5.78  \t0.005800±0.009590\n",
      "5 \t1.00\t\t0.00\t\t10  \t10  \t1.05  \t0.285600±0.262368\n",
      "5 \t1.00\t\t0.00\t\t10  \t50  \t1.14  \t0.230400±0.227208\n",
      "5 \t1.00\t\t0.00\t\t10  \t100 \t1.63  \t0.196400±0.196356\n",
      "5 \t1.00\t\t0.00\t\t50  \t50  \t3.95  \t0.011200±0.009918\n",
      "5 \t1.00\t\t0.00\t\t50  \t100 \t5.65  \t0.002900±0.005338\n",
      "5 \t1.00\t\t0.00\t\t100 \t100 \t8.41  \t0.000800±0.001600\n",
      "5 \t1.20\t\t0.00\t\t10  \t10  \t1.29  \t0.229300±0.234504\n",
      "5 \t1.20\t\t0.00\t\t10  \t50  \t1.43  \t0.169300±0.190639\n",
      "5 \t1.20\t\t0.00\t\t10  \t100 \t2.01  \t0.140000±0.157897\n",
      "5 \t1.20\t\t0.00\t\t50  \t50  \t5.46  \t0.002400±0.003382\n",
      "5 \t1.20\t\t0.00\t\t50  \t100 \t7.81  \t0.000900±0.001446\n",
      "5 \t1.20\t\t0.00\t\t100 \t100 \t11.55 \t0.000300±0.000640\n",
      "5 \t1.40\t\t0.00\t\t10  \t10  \t1.56  \t0.179800±0.196938\n",
      "5 \t1.40\t\t0.00\t\t10  \t50  \t1.77  \t0.116300±0.143623\n",
      "5 \t1.40\t\t0.00\t\t10  \t100 \t2.44  \t0.095000±0.111802\n",
      "5 \t1.40\t\t0.00\t\t50  \t50  \t7.23  \t0.000700±0.001005\n",
      "5 \t1.40\t\t0.00\t\t50  \t100 \t10.33 \t0.000000±0.000000\n",
      "5 \t1.40\t\t0.00\t\t100 \t100 \t15.20 \t0.000000±0.000000\n",
      "5 \t1.60\t\t0.00\t\t10  \t10  \t1.87  \t0.131500±0.152575\n",
      "5 \t1.60\t\t0.00\t\t10  \t50  \t2.16  \t0.080000±0.102658\n",
      "5 \t1.60\t\t0.00\t\t10  \t100 \t2.91  \t0.061300±0.076258\n",
      "5 \t1.60\t\t0.00\t\t50  \t50  \t9.25  \t0.000300±0.000640\n",
      "5 \t1.60\t\t0.00\t\t50  \t100 \t13.20 \t0.000000±0.000000\n",
      "5 \t1.60\t\t0.00\t\t100 \t100 \t19.37 \t0.000000±0.000000\n",
      "5 \t1.80\t\t0.00\t\t10  \t10  \t2.21  \t0.090600±0.107377\n",
      "5 \t1.80\t\t0.00\t\t10  \t50  \t2.60  \t0.049500±0.066011\n",
      "5 \t1.80\t\t0.00\t\t10  \t100 \t3.44  \t0.039400±0.052397\n",
      "5 \t1.80\t\t0.00\t\t50  \t50  \t11.54 \t0.000000±0.000000\n",
      "5 \t1.80\t\t0.00\t\t50  \t100 \t16.43 \t0.000000±0.000000\n",
      "5 \t1.80\t\t0.00\t\t100 \t100 \t24.05 \t0.000000±0.000000\n",
      "5 \t2.00\t\t0.00\t\t10  \t10  \t2.59  \t0.062600±0.077433\n",
      "5 \t2.00\t\t0.00\t\t10  \t50  \t3.09  \t0.029900±0.040891\n",
      "5 \t2.00\t\t0.00\t\t10  \t100 \t4.01  \t0.023700±0.033302\n",
      "5 \t2.00\t\t0.00\t\t50  \t50  \t14.07 \t0.000000±0.000000\n",
      "5 \t2.00\t\t0.00\t\t50  \t100 \t20.02 \t0.000000±0.000000\n",
      "5 \t2.00\t\t0.00\t\t100 \t100 \t29.24 \t0.000000±0.000000\n"
     ]
    }
   ],
   "source": [
    "print(f\"dims\\t|mux-muy|\\tW2(Cx,Cy)\\tNx\\tNy\\tT2\\tp\")\n",
    "\n",
    "RESULTS = []\n",
    "\n",
    "n  = 5       # number of dimensions\n",
    "trials = 10\n",
    "for shift in np.linspace(0,2,11):\n",
    "    for covdiff in (0,): #(0,0.1,1.,2.):   # uncomment for heteroschedasticity \n",
    "        for nx in (10,50,100,):     # number of samples in X\n",
    "            for ny in (10,50,100,):\n",
    "                if ny < nx: \n",
    "                    continue\n",
    "                ps = []\n",
    "                for trial in range(trials):\n",
    "                    seed(trial)\n",
    "                    X, Y, mu_x, Cx, mu_y, Cy = gen_random_data(n, nx, ny, shift, covdiff)\n",
    "                    w2 = W2(mu_x*0,mu_y*0, Cx, Cy)\n",
    "                    t2, p = tw_test(X,Y,k=1000)\n",
    "                    ps.append(p)\n",
    "                p_mean = np.mean(ps)\n",
    "                p_std  = np.std(ps)\n",
    "                print(f\"{n:<2}\\t{shift:<4.2f}\\t\\t{w2:<4.2f}\\t\\t{nx:<4}\\t{ny:<4}\\t{t2:<6.2f}\\t{p_mean:<8.6f}±{p_std:<8.6f}\")\n",
    "                RESULTS.append( ((nx,ny), shift, p_mean, p_std) )"
   ]
  },
  {
   "cell_type": "code",
   "execution_count": null,
   "metadata": {},
   "outputs": [],
   "source": [
    "R = np.array(RESULTS)\n",
    "plt.figure()\n",
    "for n in np.unique(R[:,0]):\n",
    "    idx = [r==n for r in R[:,0]]\n",
    "    plt.errorbar(R[idx,1],R[idx,2],yerr=R[idx,3],capsize=3, marker='o')\n",
    "plt.legend(np.unique(R[:,0]))\n",
    "plt.yscale('log')\n",
    "plt.ylim([1e-3,1])\n",
    "plt.xlabel('Mean distance')\n",
    "plt.ylabel('Significance')"
   ]
  }
 ],
 "metadata": {
  "kernelspec": {
   "display_name": "Python 3",
   "language": "python",
   "name": "python3"
  },
  "language_info": {
   "codemirror_mode": {
    "name": "ipython",
    "version": 3
   },
   "file_extension": ".py",
   "mimetype": "text/x-python",
   "name": "python",
   "nbconvert_exporter": "python",
   "pygments_lexer": "ipython3",
   "version": "3.8.6"
  }
 },
 "nbformat": 4,
 "nbformat_minor": 4
}
